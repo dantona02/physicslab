{
 "cells": [
  {
   "cell_type": "code",
   "execution_count": 69,
   "id": "initial_id",
   "metadata": {
    "collapsed": true,
    "ExecuteTime": {
     "end_time": "2023-10-10T19:43:07.562587Z",
     "start_time": "2023-10-10T19:43:07.393635Z"
    }
   },
   "outputs": [],
   "source": [
    "import numpy as np\n",
    "import pandas as pd\n",
    "import matplotlib.pyplot as plt\n",
    "from scipy import constants\n",
    "from scipy.interpolate import make_interp_spline, BSpline, interp1d, pchip, InterpolatedUnivariateSpline\n",
    "from matplotlib.patches import FancyArrowPatch\n",
    "from matplotlib.path import Path\n",
    "from matplotlib.lines import Line2D\n",
    "import ipywidgets as widgets\n",
    "from IPython.display import display\n",
    "from mpl_toolkits.axes_grid1.inset_locator import inset_axes\n",
    "from uncertainties import ufloat, unumpy\n",
    "from scipy.odr import ODR, Model, Data, RealData\n",
    "from scipy.optimize import curve_fit\n",
    "from matplotlib.ticker import AutoMinorLocator\n",
    "import matplotlib.ticker as ticker\n",
    "from sympy import symbols, Eq, solve\n",
    "from scipy.integrate import quad"
   ]
  },
  {
   "cell_type": "markdown",
   "source": [
    "## Hausaufgabe"
   ],
   "metadata": {
    "collapsed": false
   },
   "id": "b4ef6edafc2b1b15"
  },
  {
   "cell_type": "code",
   "execution_count": 70,
   "outputs": [
    {
     "data": {
      "text/plain": "[nu*(R*T*V**2 - V*a*nu + a*b*nu**2)/(V**2*(V - b*nu))]"
     },
     "execution_count": 70,
     "metadata": {},
     "output_type": "execute_result"
    }
   ],
   "source": [
    "a, b, V, nu, p, R, T = symbols('a b V nu p R T')\n",
    "eq = Eq((p+((nu**2)*a)/V**2)*(V-nu*b),nu*R*T)\n",
    "res = solve(eq, p)\n",
    "res"
   ],
   "metadata": {
    "collapsed": false,
    "ExecuteTime": {
     "end_time": "2023-10-10T19:43:07.599727Z",
     "start_time": "2023-10-10T19:43:07.400204Z"
    }
   },
   "id": "aa9c1a25eb1bf6be"
  },
  {
   "cell_type": "code",
   "execution_count": 71,
   "outputs": [
    {
     "name": "stdout",
     "output_type": "stream",
     "text": [
      "8.314462618\n"
     ]
    }
   ],
   "source": [
    "a = 3.6e-1#(Pa * m6)/mol2\n",
    "b = 4.3e-5 #m3/mol\n",
    "nu = 1\n",
    "T = 288.7\n",
    "R = constants.R\n",
    "print(R)"
   ],
   "metadata": {
    "collapsed": false,
    "ExecuteTime": {
     "end_time": "2023-10-10T19:43:07.600169Z",
     "start_time": "2023-10-10T19:43:07.430748Z"
    }
   },
   "id": "ceb2e4bb76d92251"
  },
  {
   "cell_type": "code",
   "execution_count": 72,
   "outputs": [],
   "source": [
    "def iso_288(v):\n",
    "    return ((R*T)/(v-b))-(a/(v**2))"
   ],
   "metadata": {
    "collapsed": false,
    "ExecuteTime": {
     "end_time": "2023-10-10T19:43:07.600391Z",
     "start_time": "2023-10-10T19:43:07.434496Z"
    }
   },
   "id": "a0169a861073b431"
  },
  {
   "cell_type": "code",
   "execution_count": 73,
   "outputs": [],
   "source": [
    "V = np.linspace(1, 500, 10000)\n",
    "p = (((R*T)/(V * 1e-6 -b))-(a/((V*1e-6)**2))) * 1e-5"
   ],
   "metadata": {
    "collapsed": false,
    "ExecuteTime": {
     "end_time": "2023-10-10T19:43:07.600474Z",
     "start_time": "2023-10-10T19:43:07.439918Z"
    }
   },
   "id": "9ca18ab7e3ac70a1"
  },
  {
   "cell_type": "code",
   "execution_count": 74,
   "outputs": [
    {
     "data": {
      "text/plain": "(55.0, 80.0)"
     },
     "execution_count": 74,
     "metadata": {},
     "output_type": "execute_result"
    },
    {
     "data": {
      "text/plain": "<Figure size 640x480 with 1 Axes>",
      "image/png": "[encoded data removed]"
     },
     "metadata": {},
     "output_type": "display_data"
    }
   ],
   "source": [
    "fig, ax = plt.subplots(dpi=100)\n",
    "plt.plot(V, p)\n",
    "ax.set_xlim(70, 300)\n",
    "ax.set_ylim(55, 80)\n"
   ],
   "metadata": {
    "collapsed": false,
    "ExecuteTime": {
     "end_time": "2023-10-10T19:43:07.632076Z",
     "start_time": "2023-10-10T19:43:07.454213Z"
    }
   },
   "id": "faab8c95c24d6631"
  },
  {
   "cell_type": "code",
   "execution_count": 75,
   "outputs": [],
   "source": [
    "file_path1 = '/Users/danielmiksch/Downloads/C31/C31_30_8.csv'\n",
    "file_path2 = '/Users/danielmiksch/Downloads/C31/C31_35_8.csv'\n",
    "file_path3 = '/Users/danielmiksch/Downloads/C31/C31_40_8.csv'\n",
    "file_path4 = '/Users/danielmiksch/Downloads/C31/C31_43_2.csv'\n",
    "file_path5 = '/Users/danielmiksch/Downloads/C31/C31_44_1.csv'\n",
    "file_path6 = '/Users/danielmiksch/Downloads/C31/C31_45_1.csv'\n",
    "file_path7 = '/Users/danielmiksch/Downloads/C31/C31_46_1.csv'\n",
    "file_path8 = '/Users/danielmiksch/Downloads/C31/C31_47_0.csv'\n",
    "file_path9 = '/Users/danielmiksch/Downloads/C31/C31_49_0.csv'\n",
    "file_path10 = '/Users/danielmiksch/Downloads/C31/C31_50_0.csv'\n",
    "\n",
    "data_30_8 = pd.read_csv(file_path1, sep=',')\n",
    "data_35_8 = pd.read_csv(file_path2, sep=',')\n",
    "data_40_8 = pd.read_csv(file_path3, sep=',')\n",
    "data_43_2 = pd.read_csv(file_path4, sep=',')\n",
    "data_44_1 = pd.read_csv(file_path5, sep=',')\n",
    "data_45_1 = pd.read_csv(file_path6, sep=',')\n",
    "data_46_1 = pd.read_csv(file_path7, sep=',')\n",
    "data_47_0 = pd.read_csv(file_path8, sep=',')\n",
    "data_49_0 = pd.read_csv(file_path9, sep=',')\n",
    "data_50_0 = pd.read_csv(file_path10, sep=',')"
   ],
   "metadata": {
    "collapsed": false,
    "ExecuteTime": {
     "end_time": "2023-10-10T19:43:07.632316Z",
     "start_time": "2023-10-10T19:43:07.526017Z"
    }
   },
   "id": "9fa48b3a49aa5412"
  },
  {
   "cell_type": "code",
   "execution_count": 76,
   "outputs": [],
   "source": [
    "def error_array(array, sx, sy):\n",
    "    err_x = np.full((len(array), 1), sx)\n",
    "    err_y = np.full((len(array), 1), sy)\n",
    "    return np.hstack((array, err_x, err_y))"
   ],
   "metadata": {
    "collapsed": false,
    "ExecuteTime": {
     "end_time": "2023-10-10T19:43:07.632379Z",
     "start_time": "2023-10-10T19:43:07.539907Z"
    }
   },
   "id": "a11b0f044fccec3"
  },
  {
   "cell_type": "code",
   "execution_count": 77,
   "outputs": [],
   "source": [
    "dV = 0.05\n",
    "dP = 0.2"
   ],
   "metadata": {
    "collapsed": false,
    "ExecuteTime": {
     "end_time": "2023-10-10T19:43:07.632969Z",
     "start_time": "2023-10-10T19:43:07.542089Z"
    }
   },
   "id": "dc692c695b65ddb7"
  },
  {
   "cell_type": "code",
   "execution_count": 78,
   "outputs": [],
   "source": [
    "a_SF6 = 7.857e-1\n",
    "b_SF6 = 8.79e-5\n",
    "x = np.linspace(.1, 5, 10000)"
   ],
   "metadata": {
    "collapsed": false,
    "ExecuteTime": {
     "end_time": "2023-10-10T19:43:07.633065Z",
     "start_time": "2023-10-10T19:43:07.547189Z"
    }
   },
   "id": "4850f3414e310c3f"
  },
  {
   "cell_type": "code",
   "execution_count": 79,
   "outputs": [],
   "source": [
    "# def isotherm(V, T):\n",
    "#     return (((R*(T+273.15))/(V * 1e-6 -b_SF6))-(a_SF6/((V*1e-6)**2))) * 1e-5"
   ],
   "metadata": {
    "collapsed": false,
    "ExecuteTime": {
     "end_time": "2023-10-10T19:43:07.633120Z",
     "start_time": "2023-10-10T19:43:07.549687Z"
    }
   },
   "id": "dd7da9d8f7e0c985"
  },
  {
   "cell_type": "code",
   "execution_count": 80,
   "outputs": [],
   "source": [
    "np.set_printoptions(suppress=True, precision=10)\n",
    "data_30_8 = error_array(data_30_8.to_numpy(), dV, dP)\n",
    "data_35_8 = error_array(data_35_8.to_numpy(), dV, dP)\n",
    "data_40_8 = error_array(data_40_8.to_numpy(), dV, dP)\n",
    "# data_43_0 = data_43_0.to_numpy()\n",
    "\n",
    "data_list = [data_30_8, data_35_8, data_40_8]"
   ],
   "metadata": {
    "collapsed": false,
    "ExecuteTime": {
     "end_time": "2023-10-10T19:43:07.633186Z",
     "start_time": "2023-10-10T19:43:07.553132Z"
    }
   },
   "id": "71b5283fa5f76472"
  },
  {
   "cell_type": "code",
   "execution_count": 80,
   "outputs": [],
   "source": [],
   "metadata": {
    "collapsed": false,
    "ExecuteTime": {
     "end_time": "2023-10-10T19:43:07.633313Z",
     "start_time": "2023-10-10T19:43:07.555588Z"
    }
   },
   "id": "a42a965b582770fe"
  },
  {
   "cell_type": "code",
   "execution_count": 81,
   "outputs": [],
   "source": [
    "def maxwell_tie_line(data, threshold, data_range, end=None, print=True):\n",
    "    x = data[:,0]\n",
    "    y = data[:,1]\n",
    "    sx = data[:,2]\n",
    "    sy = data[:,3]\n",
    "    sorted_indices = np.argsort(x)\n",
    "    x = x[sorted_indices]\n",
    "    y = y[sorted_indices]\n",
    "    sx = sx[sorted_indices]\n",
    "    sy = sy[sorted_indices]\n",
    "    x_plot = np.linspace(0.25, 3, 10000)\n",
    "    dy_dx = np.gradient(y, x)\n",
    "    # index_array = np.where(dy_dx>-threshold)[0]\n",
    "    x_coex = x[data_range[0]:data_range[1] + 1]\n",
    "    sx_coex = sx[data_range[0]:data_range[1] + 1]\n",
    "    x_sat = x[:data_range[0]]\n",
    "    sx_sat = sx[:data_range[0]]\n",
    "    if end is not None:\n",
    "        x_lin = x[data_range[1] + 1:end + 1]\n",
    "        sx_lin = sx[data_range[1] + 1:end + 1]\n",
    "    else:\n",
    "        x_lin = x[data_range[1] + 1:]\n",
    "        sx_lin = sx[data_range[1] + 1:]\n",
    "    y_coex = y[data_range[0]:data_range[1] + 1]\n",
    "    sy_coex = sy[data_range[0]:data_range[1] + 1]\n",
    "    y_sat = y[:data_range[0]]\n",
    "    sy_sat = sy[:data_range[0]]\n",
    "    if end is not None:\n",
    "        y_lin = y[data_range[1] + 1:end + 1]\n",
    "        sy_lin = sy[data_range[1] + 1:end + 1]\n",
    "    else:\n",
    "        y_lin = y[data_range[1] + 1:]\n",
    "        sy_lin = sy[data_range[1] + 1:]\n",
    "    beta_array = np.empty((0,2))\n",
    "    def model_sat_lin(p, x):\n",
    "        a, b = p\n",
    "        return a*x+b\n",
    "    model = Model(model_sat_lin)\n",
    "    for i in [[x_lin, y_lin, sx_lin, sy_lin], [x_sat, y_sat, sx_sat, sy_sat]]:\n",
    "        data_fit = RealData(i[0], i[1], sx=i[2], sy=i[3])\n",
    "        odr = ODR(data_fit, model, beta0=[3, 1])\n",
    "        output = odr.run()\n",
    "        # output.pprint()\n",
    "        beta_array = np.vstack((beta_array, output.beta))\n",
    "    def model_coex(p, x):\n",
    "        b = p\n",
    "        return 0*x+b\n",
    "    model = Model(model_coex)\n",
    "    data_fit = RealData(x_coex, y_coex, sx=sx_coex, sy=sy_coex)\n",
    "    odr = ODR(data_fit, model, beta0=[20])\n",
    "    output = odr.run()\n",
    "    # output.pprint()\n",
    "    beta_array = np.vstack((beta_array, [0, output.beta[0]]))\n",
    "    \n",
    "    def intersection_points(betas): #betas as list\n",
    "        points = np.empty((0,2))\n",
    "        i = 0\n",
    "        while i < 2:\n",
    "            x = abs((betas[2][1] - betas[i][1]) / (betas[2][0] - betas[i][0]))\n",
    "            y = model_sat_lin(betas[i], x)\n",
    "            i += 1\n",
    "            points = np.vstack((points, [x, y]))\n",
    "        return points\n",
    "    \n",
    "    # print(beta_array)\n",
    "    if print is True:\n",
    "        fig, (ax1, ax2) = plt.subplots(1,2,figsize=(12, 4))\n",
    "        ax1.scatter(x_coex, y_coex, zorder=3, c='blue', s=4, edgecolors='none')\n",
    "        ax1.scatter(x_lin, y_lin, zorder=3, c='orange', s=4, edgecolors='none')\n",
    "        ax1.scatter(x_sat, y_sat, zorder=3, c='green', s=4, edgecolors='none')\n",
    "        ax1.scatter(x, y, c='red', s=4, edgecolors='none')\n",
    "        ax1.plot(x_plot, model_sat_lin(beta_array[0], x_plot), c='orange', linewidth=.5)\n",
    "        ax1.plot(x_plot, model_sat_lin(beta_array[1], x_plot), c='green', linewidth=.5)\n",
    "        ax1.plot(x_plot, model_sat_lin(beta_array[2], x_plot), c='blue', linewidth=.5)\n",
    "        ax1.set_ylim(15, 40)\n",
    "        # ax.set_xlim(0, 3.2)\n",
    "        ax2.scatter(x, dy_dx)\n",
    "        ax2.scatter(x[dy_dx>-threshold], dy_dx[dy_dx>-threshold])\n",
    "    \n",
    "    return intersection_points(beta_array)    "
   ],
   "metadata": {
    "collapsed": false,
    "ExecuteTime": {
     "end_time": "2023-10-10T19:43:07.634241Z",
     "start_time": "2023-10-10T19:43:07.566840Z"
    }
   },
   "id": "4616f0e16e3390bf"
  },
  {
   "cell_type": "code",
   "execution_count": 82,
   "outputs": [
    {
     "data": {
      "text/plain": "array([[ 1.5645425545, 24.73        ],\n       [ 0.3573693758, 24.73        ]])"
     },
     "execution_count": 82,
     "metadata": {},
     "output_type": "execute_result"
    },
    {
     "data": {
      "text/plain": "<Figure size 1200x400 with 2 Axes>",
      "image/png": "[encoded data removed]"
     },
     "metadata": {},
     "output_type": "display_data"
    }
   ],
   "source": [
    "point_list = np.empty((0,2))\n",
    "\n",
    "point_list = np.vstack((point_list, maxwell_tie_line(data_30_8, 3, [4, 13], end=19, print=False)))\n",
    "point_list = np.vstack((point_list, maxwell_tie_line(data_35_8, 3, [3, 10], end=None, print=False)))\n",
    "point_list = np.vstack((point_list, maxwell_tie_line(data_40_8, 3, [4, 12], end=None, print=False)))\n",
    "\n",
    "maxwell_tie_line(data_30_8, 3, [4, 13], end=19, print=True)"
   ],
   "metadata": {
    "collapsed": false,
    "ExecuteTime": {
     "end_time": "2023-10-10T19:43:07.741990Z",
     "start_time": "2023-10-10T19:43:07.570759Z"
    }
   },
   "id": "7b1c4c2e2af8d35d"
  },
  {
   "cell_type": "code",
   "execution_count": 83,
   "outputs": [],
   "source": [
    "# def isotherm_fit(x, nu, T):\n",
    "#     # nu_fit  = p\n",
    "#     return nu*(R*T*(x*1e-6)**2 - (x*1e-6)*a_SF6*nu + a_SF6*b_SF6*nu**2)/((x*1e-6)**2*((x*1e-6) - b_SF6*nu)) * 1e-5"
   ],
   "metadata": {
    "collapsed": false,
    "ExecuteTime": {
     "end_time": "2023-10-10T19:43:07.742959Z",
     "start_time": "2023-10-10T19:43:07.719273Z"
    }
   },
   "id": "4995cb2f42d8d4c7"
  },
  {
   "cell_type": "code",
   "execution_count": 84,
   "outputs": [],
   "source": [
    "# popt, pcov = curve_fit(isotherm_fit, data_30_8[:,0], data_30_8[:,1], sigma=data_30_8[:,3], absolute_sigma=True, p0=[3, 310])\n",
    "# popt"
   ],
   "metadata": {
    "collapsed": false,
    "ExecuteTime": {
     "end_time": "2023-10-10T19:43:07.743291Z",
     "start_time": "2023-10-10T19:43:07.723499Z"
    }
   },
   "id": "711e5560b0b383a0"
  },
  {
   "cell_type": "code",
   "execution_count": 85,
   "outputs": [
    {
     "data": {
      "text/plain": "<ErrorbarContainer object of 3 artists>"
     },
     "execution_count": 85,
     "metadata": {},
     "output_type": "execute_result"
    },
    {
     "data": {
      "text/plain": "<Figure size 960x720 with 1 Axes>",
      "image/png": "[encoded data removed]"
     },
     "metadata": {},
     "output_type": "display_data"
    }
   ],
   "source": [
    "fig, ax = plt.subplots(dpi=150)\n",
    "\n",
    "ax.set_xlim(.1, 3)\n",
    "ax.set_ylim(20, 45)\n",
    "\n",
    "for index, point in enumerate(point_list):\n",
    "    ax.scatter(point[0], point[1], marker='x', \n",
    "           s=15,\n",
    "           color='black',\n",
    "           label='Grenzpunkte',\n",
    "           linewidth=.8,\n",
    "           zorder=3)\n",
    "    if (index + 1 < len(point_list)) & ((index % 2) == 0):\n",
    "        next_point = point_list[index + 1]\n",
    "        ax.plot([point[0], next_point[0]], [point[1], next_point[1]], color='dimgrey', linestyle='--', linewidth=.8, zorder=3)\n",
    "\n",
    "plt.errorbar(data_30_8[:,0], data_30_8[:,1],\n",
    "             xerr=data_30_8[:,2], yerr=data_30_8[:,3],\n",
    "             capsize=2, ecolor='red', elinewidth=0.4, capthick=0.4,\n",
    "             markersize=5, fmt=\".\", markeredgecolor='none', c=\"red\",\n",
    "             zorder=2,\n",
    "             label='T=30,8°C')\n",
    "plt.errorbar(data_35_8[:,0], data_35_8[:,1],\n",
    "             xerr=data_35_8[:,2], yerr=data_35_8[:,3],\n",
    "             capsize=2, ecolor='blue', elinewidth=0.4, capthick=0.4,\n",
    "             markersize=5, fmt=\".\", markeredgecolor='none', c=\"blue\",\n",
    "             zorder=2,\n",
    "             label='T=35,8°C')\n",
    "plt.errorbar(data_40_8[:,0], data_40_8[:,1],\n",
    "             xerr=data_40_8[:,2], yerr=data_40_8[:,3],\n",
    "             capsize=2, ecolor='deepskyblue', elinewidth=0.4, capthick=0.4,\n",
    "             markersize=5, fmt=\".\", markeredgecolor='none', c=\"deepskyblue\",\n",
    "             zorder=2,\n",
    "             label='T=40,8°C')"
   ],
   "metadata": {
    "collapsed": false,
    "ExecuteTime": {
     "end_time": "2023-10-10T19:43:07.846255Z",
     "start_time": "2023-10-10T19:43:07.731636Z"
    }
   },
   "id": "3b46bc59e6a7b216"
  },
  {
   "cell_type": "code",
   "execution_count": 86,
   "outputs": [
    {
     "data": {
      "text/plain": "<Figure size 640x480 with 1 Axes>",
      "image/png": "[encoded data removed]"
     },
     "metadata": {},
     "output_type": "display_data"
    }
   ],
   "source": [
    "\n",
    "# Erstellen Sie eine Datenreihe mit konstanten und nicht-konstanten Teilen\n",
    "x = np.linspace(0, 10, 100)\n",
    "y = np.concatenate([np.full(50, 5), x[:50]])\n",
    "\n",
    "# Verwenden Sie numpy.gradient, um die Ableitung zu berechnen\n",
    "dy_dx = np.gradient(y, x)\n",
    "\n",
    "# Plotten\n",
    "plt.plot(x, y, label='Daten')\n",
    "plt.plot(x, dy_dx, label='Ableitung', linestyle='--')\n",
    "plt.legend()\n",
    "plt.show()\n"
   ],
   "metadata": {
    "collapsed": false,
    "ExecuteTime": {
     "end_time": "2023-10-10T19:43:07.938798Z",
     "start_time": "2023-10-10T19:43:07.847403Z"
    }
   },
   "id": "69582f53727b0aad"
  },
  {
   "cell_type": "code",
   "execution_count": 86,
   "outputs": [],
   "source": [],
   "metadata": {
    "collapsed": false,
    "ExecuteTime": {
     "end_time": "2023-10-10T19:43:07.947408Z",
     "start_time": "2023-10-10T19:43:07.940543Z"
    }
   },
   "id": "6fc186fa581e8d59"
  }
 ],
 "metadata": {
  "kernelspec": {
   "display_name": "Python 3",
   "language": "python",
   "name": "python3"
  },
  "language_info": {
   "codemirror_mode": {
    "name": "ipython",
    "version": 2
   },
   "file_extension": ".py",
   "mimetype": "text/x-python",
   "name": "python",
   "nbconvert_exporter": "python",
   "pygments_lexer": "ipython2",
   "version": "2.7.6"
  }
 },
 "nbformat": 4,
 "nbformat_minor": 5
}
