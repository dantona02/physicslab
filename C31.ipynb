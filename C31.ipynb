{
 "cells": [
  {
   "cell_type": "code",
   "execution_count": 9,
   "id": "initial_id",
   "metadata": {
    "collapsed": true,
    "ExecuteTime": {
     "end_time": "2023-10-09T20:49:59.563557Z",
     "start_time": "2023-10-09T20:49:59.410184Z"
    }
   },
   "outputs": [],
   "source": [
    "import numpy as np\n",
    "import pandas as pd\n",
    "import matplotlib.pyplot as plt\n",
    "from scipy import constants\n",
    "from scipy.interpolate import make_interp_spline, BSpline\n",
    "from matplotlib.patches import FancyArrowPatch\n",
    "from matplotlib.path import Path\n",
    "from matplotlib.lines import Line2D\n",
    "import ipywidgets as widgets\n",
    "from IPython.display import display\n",
    "from mpl_toolkits.axes_grid1.inset_locator import inset_axes\n",
    "from uncertainties import ufloat, unumpy\n",
    "from scipy.odr import ODR, Model, Data, RealData\n",
    "from scipy.stats import pearsonr\n",
    "from scipy.optimize import curve_fit\n",
    "from matplotlib.ticker import AutoMinorLocator\n",
    "import matplotlib.ticker as ticker\n",
    "from sympy import symbols, Eq, solve\n",
    "from scipy.integrate import quad"
   ]
  },
  {
   "cell_type": "markdown",
   "source": [
    "## Hausaufgabe"
   ],
   "metadata": {
    "collapsed": false
   },
   "id": "b4ef6edafc2b1b15"
  },
  {
   "cell_type": "code",
   "execution_count": 10,
   "outputs": [
    {
     "data": {
      "text/plain": "Eq((V - b*nu)*(p + a*nu**2/V**2), R*T*nu)",
      "text/latex": "$\\displaystyle \\left(V - b \\nu\\right) \\left(p + \\frac{a \\nu^{2}}{V^{2}}\\right) = R T \\nu$"
     },
     "execution_count": 10,
     "metadata": {},
     "output_type": "execute_result"
    }
   ],
   "source": [
    "a, b, V, nu, p, R, T = symbols('a b V nu p R T')\n",
    "eq = Eq((p+((nu**2)*a)/V**2)*(V-nu*b),nu*R*T)\n",
    "res = solve(eq, p)\n",
    "eq"
   ],
   "metadata": {
    "collapsed": false,
    "ExecuteTime": {
     "end_time": "2023-10-09T20:49:59.565884Z",
     "start_time": "2023-10-09T20:49:59.440503Z"
    }
   },
   "id": "aa9c1a25eb1bf6be"
  },
  {
   "cell_type": "code",
   "execution_count": 11,
   "outputs": [
    {
     "name": "stdout",
     "output_type": "stream",
     "text": [
      "8.314462618\n"
     ]
    }
   ],
   "source": [
    "a = 3.6e-1#(Pa * m6)/mol2\n",
    "b = 4.3e-5 #m3/mol\n",
    "nu = 1\n",
    "T = 288.7\n",
    "R = constants.R\n",
    "print(R)"
   ],
   "metadata": {
    "collapsed": false,
    "ExecuteTime": {
     "end_time": "2023-10-09T20:49:59.565926Z",
     "start_time": "2023-10-09T20:49:59.444817Z"
    }
   },
   "id": "ceb2e4bb76d92251"
  },
  {
   "cell_type": "code",
   "execution_count": 12,
   "outputs": [],
   "source": [
    "def iso_288(v):\n",
    "    return ((R*T)/(v-b))-(a/(v**2))"
   ],
   "metadata": {
    "collapsed": false,
    "ExecuteTime": {
     "end_time": "2023-10-09T20:49:59.565952Z",
     "start_time": "2023-10-09T20:49:59.448304Z"
    }
   },
   "id": "a0169a861073b431"
  },
  {
   "cell_type": "code",
   "execution_count": 13,
   "outputs": [],
   "source": [
    "V = np.linspace(1, 500, 10000)\n",
    "p = (((R*T)/(V * 1e-6 -b))-(a/((V*1e-6)**2))) * 1e-5"
   ],
   "metadata": {
    "collapsed": false,
    "ExecuteTime": {
     "end_time": "2023-10-09T20:49:59.565970Z",
     "start_time": "2023-10-09T20:49:59.451908Z"
    }
   },
   "id": "9ca18ab7e3ac70a1"
  },
  {
   "cell_type": "code",
   "execution_count": 14,
   "outputs": [
    {
     "data": {
      "text/plain": "(55.0, 80.0)"
     },
     "execution_count": 14,
     "metadata": {},
     "output_type": "execute_result"
    },
    {
     "data": {
      "text/plain": "<Figure size 640x480 with 1 Axes>",
      "image/png": "[encoded data removed]"
     },
     "metadata": {},
     "output_type": "display_data"
    }
   ],
   "source": [
    "fig, ax = plt.subplots(dpi=100)\n",
    "plt.plot(V, p)\n",
    "ax.set_xlim(70, 300)\n",
    "ax.set_ylim(55, 80)\n"
   ],
   "metadata": {
    "collapsed": false,
    "ExecuteTime": {
     "end_time": "2023-10-09T20:49:59.566483Z",
     "start_time": "2023-10-09T20:49:59.458994Z"
    }
   },
   "id": "faab8c95c24d6631"
  },
  {
   "cell_type": "code",
   "execution_count": 15,
   "outputs": [],
   "source": [
    "file_path1 = '/Users/danielmiksch/Downloads/C31_30_8.csv'\n",
    "file_path2 = '/Users/danielmiksch/Downloads/C31_35_8.csv'\n",
    "# file_path3 = '/Users/danielmiksch/Downloads/C42_3.csv'\n",
    "# file_path14 = '/Users/danielmiksch/Downloads/C42_3.csv'\n",
    "\n",
    "\n",
    "data_30_8 = pd.read_csv(file_path1, sep=',')\n",
    "data_35_8 = pd.read_csv(file_path2, sep=',')"
   ],
   "metadata": {
    "collapsed": false,
    "ExecuteTime": {
     "end_time": "2023-10-09T20:49:59.566549Z",
     "start_time": "2023-10-09T20:49:59.527953Z"
    }
   },
   "id": "9fa48b3a49aa5412"
  },
  {
   "cell_type": "code",
   "execution_count": 16,
   "outputs": [],
   "source": [
    "np.set_printoptions(suppress=True, precision=10)\n",
    "data_30_8 = data_30_8.to_numpy()\n",
    "data_35_8 = data_35_8.to_numpy()"
   ],
   "metadata": {
    "collapsed": false,
    "ExecuteTime": {
     "end_time": "2023-10-09T20:49:59.566569Z",
     "start_time": "2023-10-09T20:49:59.534281Z"
    }
   },
   "id": "71b5283fa5f76472"
  },
  {
   "cell_type": "code",
   "execution_count": 16,
   "outputs": [],
   "source": [],
   "metadata": {
    "collapsed": false,
    "ExecuteTime": {
     "end_time": "2023-10-09T20:49:59.566587Z",
     "start_time": "2023-10-09T20:49:59.535909Z"
    }
   },
   "id": "3b46bc59e6a7b216"
  }
 ],
 "metadata": {
  "kernelspec": {
   "display_name": "Python 3",
   "language": "python",
   "name": "python3"
  },
  "language_info": {
   "codemirror_mode": {
    "name": "ipython",
    "version": 2
   },
   "file_extension": ".py",
   "mimetype": "text/x-python",
   "name": "python",
   "nbconvert_exporter": "python",
   "pygments_lexer": "ipython2",
   "version": "2.7.6"
  }
 },
 "nbformat": 4,
 "nbformat_minor": 5
}
